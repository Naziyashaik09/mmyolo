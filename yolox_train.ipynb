{
 "cells": [
  {
   "cell_type": "markdown",
   "id": "a887907c-72e7-4315-b909-71f7dcb9e3cb",
   "metadata": {},
   "source": [
    "# Enter the dataset paths , the percentage for the data split and the parameters to train the model"
   ]
  },
  {
   "cell_type": "markdown",
   "id": "c4c24b75-c1ae-4b06-ac30-888dea385893",
   "metadata": {},
   "source": [
    "### If you want to download the predefined dataset follow the next 2 steps or else you can skip that"
   ]
  },
  {
   "cell_type": "code",
   "execution_count": null,
   "id": "1daf776e-6b87-4ea1-b936-210d607c87b8",
   "metadata": {},
   "outputs": [],
   "source": [
    "!python3 tools/misc/download_dataset.py --dataset-name cat --save-dir ./data/cat --unzip --delete"
   ]
  },
  {
   "cell_type": "code",
   "execution_count": null,
   "id": "df74ec07-a10f-4c01-845e-1e43874e8ca9",
   "metadata": {},
   "outputs": [],
   "source": [
    "#### dataset_root is the path , where images and the annotation file consists \n",
    "dataset_root=input('Enter the dataset root path')\n",
    "\n",
    "# annotation_path , where there is a single file annotation in the coco (json) format \n",
    "annotation_path=input('Enter the annotation path ,(json file)')\n",
    "\n",
    "# consists of images for training\n",
    "train_images=input('Enter the train images path ,(excluding the dataset_root path )')\n",
    "\n",
    "# In the above there is single annotation file , which consists of whole data annotations .\n",
    "# The percentages are given to seperate the data into 3 parts (train , test and validation )\n",
    "train_percentage=input('Enter the percentage to divide the train dataset . Eg:0.8')\n",
    "test_percentage= input('Enter the percentage to divide the test dataset . Eg:0.1')\n",
    "val_percentage= input('Enter the percentage to divide the validation dataset . Eg:0.1')\n",
    "\n",
    "# enter the epochs , upto how much epochs the models needs to train \n",
    "MAX_EPOCHS = input('Enter the MAX_EPOCHS ')\n",
    "\n",
    "# BATCH_SIZE means  \"The number of training examples utilized in one iteration\".\n",
    "BATCH_SIZE = input('Enter the BATCH_SIZE')\n"
   ]
  },
  {
   "cell_type": "markdown",
   "id": "44130013-e211-4876-8cd9-68343e90ef5a",
   "metadata": {},
   "source": [
    "# select the model , need to do be train"
   ]
  },
  {
   "cell_type": "code",
   "execution_count": null,
   "id": "606d76c4-d0a5-43b8-af25-e8dc636932c9",
   "metadata": {},
   "outputs": [
    {
     "name": "stdout",
     "output_type": "stream",
     "text": [
      "You selected: YOLOX_l\n"
     ]
    }
   ],
   "source": [
    "import sys\n",
    "\n",
    "# Dictionary of model types and their corresponding options\n",
    "model_types = {\n",
    "    \"YOLOX\": [\"YOLOX_s\", \"YOLOX_m\", \"YOLOX_l\", \"YOLOX_x\",\"YOLOX_Darknet53\",\"YOLOX_Nano\",\"YOLOX_Tiny\"],\n",
    "}\n",
    "\n",
    "# Variable to store user's choice\n",
    "selected_model_type = \"YOLOX\"\n",
    "selected_model_variant = None\n",
    "\n",
    "# Print model variants for the selected model type\n",
    "print(f\"Please select a {selected_model_type} model variant:\")\n",
    "for i, model_variant in enumerate(model_types[selected_model_type]):\n",
    "    print(f\"{i}. {model_variant}\")\n",
    "\n",
    "# Get input for model variant\n",
    "while True:\n",
    "    model_variant_choice = input(\"Enter choice (0-{}): \".format(len(model_types[selected_model_type]) - 1))\n",
    "    try:\n",
    "        model_variant_choice = int(model_variant_choice)\n",
    "        if 0 <= model_variant_choice < len(model_types[selected_model_type]):\n",
    "            selected_model_variant = model_types[selected_model_type][model_variant_choice]\n",
    "            break\n",
    "    except ValueError:\n",
    "        pass\n",
    "\n",
    "    print(\"Invalid choice, please try again\")\n",
    "\n",
    "print(f\"You selected: {selected_model_variant}\")\n"
   ]
  },
  {
   "cell_type": "markdown",
   "id": "ed4d7b22-e25f-4b1d-be76-d99eaa592053",
   "metadata": {},
   "source": [
    "# split the annotation file into train , test, validation and data augmentation"
   ]
  },
  {
   "cell_type": "markdown",
   "id": "3c47ddce-03ec-470c-8bbd-131a2d609eff",
   "metadata": {},
   "source": [
    "### If there is single annotation file , that can divide into train , test and validation (coco format)"
   ]
  },
  {
   "cell_type": "code",
   "execution_count": null,
   "id": "4cb6bf2e-5907-40b8-8c6a-25de33216456",
   "metadata": {},
   "outputs": [],
   "source": [
    "pwd"
   ]
  },
  {
   "cell_type": "code",
   "execution_count": null,
   "id": "9ec1a15f-b825-4b48-9581-7a4ddfc91a1e",
   "metadata": {},
   "outputs": [],
   "source": [
    "%cd /root/workspace/mmyolo"
   ]
  },
  {
   "cell_type": "code",
   "execution_count": null,
   "id": "be966832-d83c-47fb-afdf-a1733840f7cf",
   "metadata": {},
   "outputs": [],
   "source": [
    "# !pip install sklearn\n",
    "!pip install funcy\n",
    "!pip install argparse\n",
    "!pip install scikit-learn"
   ]
  },
  {
   "cell_type": "code",
   "execution_count": null,
   "id": "0f6e2fb0-2cd0-4646-b982-3bedeff24b39",
   "metadata": {},
   "outputs": [],
   "source": [
    "!python cocosplit_train_test_valid.py \\\n",
    "    --annotations \"{annotation_path}\" \\\n",
    "    --train_ratio {train_percentage} \\\n",
    "    --valid_ratio {val_percentage} \\\n",
    "    --test_ratio {test_percentage} \\\n",
    "    --trainJson_name train.json \\\n",
    "    --validJson_name val.json \\\n",
    "    --testJson_name test.json"
   ]
  },
  {
   "cell_type": "code",
   "execution_count": null,
   "id": "417566b6-e33f-485d-b5ca-4e11d00bf0d5",
   "metadata": {},
   "outputs": [],
   "source": [
    "import os , shutil\n",
    "# dataset_root = '/home/viso/datasets/viso_datasets/construction-demo'\n",
    "\n",
    "parent_directory = os.path.dirname(annotation_path)\n",
    "shutil.copy('/root/workspace/mmyolo/test.json',parent_directory)\n",
    "shutil.copy('/root/workspace/mmyolo/val.json',parent_directory)\n",
    "shutil.copy('/root/workspace/mmyolo/train.json',parent_directory)\n",
    "\n",
    "train_json = os.path.join(parent_directory, 'train.json')\n",
    "val_json = os.path.join(parent_directory, 'val.json')\n",
    "test_json = os.path.join(parent_directory, 'test.json')\n",
    "\n",
    "# Remove the dataset_root prefix using os.path.relpath\n",
    "train_json_relpath = os.path.relpath(train_json, dataset_root)\n",
    "val_json_relpath = os.path.relpath(val_json, dataset_root)\n",
    "test_json_relpath = os.path.relpath(test_json, dataset_root)\n",
    "\n",
    "print(train_json_relpath, val_json_relpath, test_json_relpath)\n",
    "print(parent_directory)"
   ]
  },
  {
   "cell_type": "code",
   "execution_count": null,
   "id": "aefc2e40-8c3f-4df7-b4f3-a22fb74dd1a5",
   "metadata": {},
   "outputs": [],
   "source": [
    "import os\n",
    "import shutil\n",
    "\n",
    "# Define the source directory\n",
    "source_directory = '/root/workspace/mmyolo/'\n",
    "destination_directory = os.path.dirname(annotation_path)\n",
    "print(destination_directory)\n",
    "# Define the destination directory\n",
    "# destination_directory = '/home/viso/sample_dataset/annotations'\n",
    "\n",
    "# Copy the files from the source directory to the destination directory\n",
    "shutil.copy(os.path.join(source_directory, 'train.json'), destination_directory)\n",
    "shutil.copy(os.path.join(source_directory, 'val.json'), destination_directory)\n",
    "shutil.copy(os.path.join(source_directory, 'test.json'), destination_directory)\n",
    "\n",
    "# Print the relative paths of the copied files with respect to the destination directory\n",
    "train_json_relpath=os.path.basename(os.path.join(destination_directory, 'train.json'))\n",
    "print(train_json_relpath)\n",
    "val_json_relpath=os.path.basename(os.path.join(destination_directory, 'val.json'))\n",
    "test_json_relpath=os.path.basename(os.path.join(destination_directory, 'test.json'))"
   ]
  },
  {
   "cell_type": "markdown",
   "id": "c0da52ee-2d85-44ca-8bfe-bc1c2709f237",
   "metadata": {},
   "source": [
    "# Generating info for the config based on the annotation file "
   ]
  },
  {
   "cell_type": "code",
   "execution_count": null,
   "id": "9d68cc4a-fff4-4afc-9f73-7d8f0186a5f3",
   "metadata": {},
   "outputs": [],
   "source": [
    "import json\n",
    "\n",
    "with open(annotation_path, 'r') as f:\n",
    "    data = json.load(f)\n",
    "\n",
    "classes = [c['name'] for c in data['categories']]\n",
    "NUM_CLASSES = len(classes)\n",
    "palette = []\n",
    "\n",
    "for i, c in enumerate(classes):\n",
    "    r = (i * 50) % 255\n",
    "    g = (i * 100) % 255\n",
    "    b = (i * 150) % 255\n",
    "    palette.append((r, g, b))\n",
    "\n",
    "metainfo = {\n",
    "    'classes': classes,\n",
    "    'palette': palette\n",
    "}\n",
    "class_names=metainfo['classes']\n",
    "print(\"Class Names:\", class_names)\n",
    "print(\"Number of Classes:\", NUM_CLASSES)"
   ]
  },
  {
   "cell_type": "code",
   "execution_count": null,
   "id": "9a3a0bdf-ecab-495c-a884-0a16dcd3224c",
   "metadata": {},
   "outputs": [],
   "source": [
    "# Define the variable containing the class names\n",
    "# Write the COCO_CLASSES tuple using the class_names variable\n",
    "with open(f\"{dataset_root}/coco_classes.py\", \"w\") as f:\n",
    "    for class_name in class_names:\n",
    "        f.write(f'\"{class_name}\"\\n')\n"
   ]
  },
  {
   "cell_type": "markdown",
   "id": "3ccfe958-d20b-4769-8726-ebfe59edd797",
   "metadata": {},
   "source": [
    "# Installing YOLOX Dependencies"
   ]
  },
  {
   "cell_type": "code",
   "execution_count": null,
   "id": "232c1fac-f2f0-4d40-bffe-136377923625",
   "metadata": {},
   "outputs": [],
   "source": [
    "%cd /root/workspace/\n",
    "!pwd\n",
    "!git clone https://github.com/Megvii-BaseDetection/YOLOX"
   ]
  },
  {
   "cell_type": "code",
   "execution_count": null,
   "id": "a5bbbcb1-a531-4387-aee9-772612879a9c",
   "metadata": {},
   "outputs": [],
   "source": [
    "%cd /root/workspace/YOLOX\n",
    "!pip3 install -U pip && pip3 install -r requirements.txt\n",
    "!pip3 install -v -e .  \n",
    "!pip uninstall -y torch torchvision torchaudio\n",
    "# May need to change in the future if Colab no longer uses CUDA 11.0\n",
    "!pip install torch==1.7.1+cu110 torchvision==0.8.2+cu110 torchaudio==0.7.2 -f https://download.pytorch.org/whl/torch_stable.html\n",
    "     "
   ]
  },
  {
   "cell_type": "code",
   "execution_count": null,
   "id": "70232a99-8f44-4a1d-8503-3a30f6a4e46c",
   "metadata": {},
   "outputs": [],
   "source": [
    "%cd /root/workspace/YOLOX\n",
    "!git clone https://github.com/NVIDIA/apex\n",
    "%cd apex\n",
    "!pip install -v --disable-pip-version-check --no-cache-dir --global-option=\"--cpp_ext\" --global-option=\"--cuda_ext\" ./\n",
    "\n",
    "!pip3 install cython; pip3 install 'git+https://github.com/cocodataset/cocoapi.git#subdirectory=PythonAPI'\n",
    "     "
   ]
  },
  {
   "cell_type": "code",
   "execution_count": null,
   "id": "1338ae15-c086-4634-9eb2-4b43ee56f13a",
   "metadata": {},
   "outputs": [],
   "source": [
    "selected_model_variant_lower=selected_model_variant.lower()"
   ]
  },
  {
   "cell_type": "code",
   "execution_count": null,
   "id": "eeabb9fd-cea5-43c6-b8e4-db295eae00ef",
   "metadata": {},
   "outputs": [],
   "source": [
    "selected_model_variant_lower"
   ]
  },
  {
   "cell_type": "code",
   "execution_count": null,
   "id": "e11f58a9-cae2-40b0-b9db-cacc459f672f",
   "metadata": {},
   "outputs": [],
   "source": [
    "train_json_relpath"
   ]
  },
  {
   "cell_type": "code",
   "execution_count": null,
   "id": "2a53b1cb-0892-4a70-b68b-a6535d995703",
   "metadata": {},
   "outputs": [],
   "source": [
    "# Check if the selected model type is 'YOLOx'\n",
    "if selected_model_type == 'YOLOX':\n",
    "    # Provide the path to the user for modification\n",
    "    dummy_config = f'/root/workspace/YOLOX/exps/default/{selected_model_variant_lower}.py'\n",
    "    custom_config_file_path_base = f'/root/workspace/YOLOX/exps/example/custom/{selected_model_variant_lower}.py'  # Set your desired path\n",
    "\n",
    "    # Load the YOLOx config file\n",
    "    with open(dummy_config, 'r') as f:\n",
    "        cfg_content = f.read()\n",
    "\n",
    "    # Split the content of the config file into lines\n",
    "    cfg_lines = cfg_content.split('\\n')\n",
    "\n",
    "    # Find the index of the line where `self.exp_name` is defined\n",
    "    exp_name_line_index = cfg_lines.index('        self.exp_name = os.path.split(os.path.realpath(__file__))[1].split(\".\")[0]')\n",
    "\n",
    "    # Append specific lines with new values after `self.exp_name`\n",
    "    cfg_lines.insert(exp_name_line_index + 1, f'        self.data_dir = \"{dataset_root}\"')\n",
    "    cfg_lines.insert(exp_name_line_index + 2, f'        self.train_ann = \"{train_json_relpath}\"')\n",
    "    cfg_lines.insert(exp_name_line_index + 3, f'        self.val_ann = \"{val_json_relpath}\"')\n",
    "    cfg_lines.insert(exp_name_line_index + 4, f'        self.num_classes = {NUM_CLASSES}')\n",
    "    cfg_lines.insert(exp_name_line_index + 5, f'        self.max_epoch = {MAX_EPOCHS}')\n",
    "    cfg_lines.insert(exp_name_line_index + 6, f'        self.data_num_workers = 4')\n",
    "    cfg_lines.insert(exp_name_line_index + 7, f'        self.eval_interval = 1')\n",
    "    cfg_lines.insert(exp_name_line_index + 8, f'        self.batch_size = {BATCH_SIZE}')\n",
    "\n",
    "    # Join the lines back into a single string\n",
    "    cfg_content = '\\n'.join(cfg_lines)\n",
    "\n",
    "    # Save the modified content to the new file\n",
    "    with open(custom_config_file_path_base, 'w') as custom_cfg_file:\n",
    "        custom_cfg_file.write(cfg_content)\n",
    "\n",
    "    print(f\"Custom config file has been created at {custom_config_file_path_base}.\")\n",
    "    print(\"dummy_config:\", dummy_config)\n",
    "    print(\"custom_config_file_path_base:\", custom_config_file_path_base)\n"
   ]
  },
  {
   "cell_type": "code",
   "execution_count": null,
   "id": "615fb718-6d85-461a-8b3a-906c0095c61b",
   "metadata": {},
   "outputs": [],
   "source": [
    "# # train_json_relpath = \"'annotations/train.json'\"\n",
    "# train_json_relpath = train_json_relpath.replace(\"annotations/\", \"\")\n",
    "# val_json_relpath = val_json_relpath.replace(\"annotations/\", \"\")\n",
    "# # train_json_relpath = train_json_relpath.replace(\"annotations/\", \"\")\n",
    "\n",
    "print(train_json_relpath)\n"
   ]
  },
  {
   "cell_type": "code",
   "execution_count": null,
   "id": "12507046-c685-49c6-9c26-6b554ae0fce9",
   "metadata": {},
   "outputs": [],
   "source": [
    "cd /root/workspace/YOLOX"
   ]
  },
  {
   "cell_type": "code",
   "execution_count": null,
   "id": "cf00e2a6-3129-4932-ba1d-5988c80390fe",
   "metadata": {},
   "outputs": [],
   "source": [
    "!pip install loguru\n",
    "!pip install tensorboard"
   ]
  },
  {
   "cell_type": "code",
   "execution_count": null,
   "id": "9120150c-40ea-4337-8331-4151af38f575",
   "metadata": {},
   "outputs": [],
   "source": [
    "%cd /root/workspace/YOLOX\n",
    "!wget https://github.com/Megvii-BaseDetection/storage/releases/download/0.0.1/{selected_model_variant_lower}.pth"
   ]
  },
  {
   "cell_type": "code",
   "execution_count": null,
   "id": "0f3163aa-d282-44dc-94a1-927ffd4bb8b9",
   "metadata": {},
   "outputs": [],
   "source": [
    "selected_model_variant_lower"
   ]
  },
  {
   "cell_type": "code",
   "execution_count": null,
   "id": "63a22b56-ee02-487c-991f-e1fc932d0793",
   "metadata": {},
   "outputs": [],
   "source": [
    "train_images"
   ]
  },
  {
   "cell_type": "code",
   "execution_count": null,
   "id": "5c153b26-f4d6-4cf1-8d3f-41bbf5227196",
   "metadata": {},
   "outputs": [],
   "source": [
    "import fileinput\n",
    "\n",
    "# Define the new value for train_path\n",
    "# train_path = \"your_desired_train_path\"\n",
    "\n",
    "# File to modify\n",
    "file_path = \"/root/workspace/YOLOX/yolox/data/datasets/coco.py\"\n",
    "\n",
    "# Read the file and replace the desired line\n",
    "with fileinput.FileInput(file_path, inplace=True, backup=\".bak\") as file:\n",
    "    for line in file:\n",
    "        print(line.replace('name=\"train2017\"', f'name=\"{train_images}\"'), end='')\n"
   ]
  },
  {
   "cell_type": "code",
   "execution_count": null,
   "id": "171ebdbd-f8ec-49c1-b192-391240d756d3",
   "metadata": {},
   "outputs": [],
   "source": [
    "import subprocess\n",
    "import sys\n",
    "\n",
    "# Get the current Python path\n",
    "PYTHONPATH = \":\".join(sys.path)\n",
    "\n",
    "# Assuming config_file_path is something like \"yolox/config_file.py\"\n",
    "# config_file_path = config_file_path.split('/')[-1]\n",
    "command_line = f\"export PYTHONPATH='{PYTHONPATH}:/root/workspace/YOLOX/' && python tools/train.py -f {custom_config_file_path_base} -d 1 -b 32 --fp16 -o -c /root/workspace/YOLOX/{selected_model_variant_lower}.pth\"\n",
    "\n",
    "# Run the command\n",
    "result = subprocess.run(command_line, shell=True)\n",
    "\n",
    "# Check the result\n",
    "if result.returncode == 0:\n",
    "    print(\"Command executed successfully\")\n",
    "else:\n",
    "    print(f\"Error executing the command. Return code: {result.returncode}\")\n",
    "    print(f\"Output: {result.stdout}\")\n",
    "    print(f\"Error: {result.stderr}\")\n"
   ]
  },
  {
   "cell_type": "code",
   "execution_count": null,
   "id": "8422be64-fded-4af1-b3ba-ac36dbca9b15",
   "metadata": {},
   "outputs": [],
   "source": []
  }
 ],
 "metadata": {
  "kernelspec": {
   "display_name": "Python 3 (ipykernel)",
   "language": "python",
   "name": "python3"
  },
  "language_info": {
   "codemirror_mode": {
    "name": "ipython",
    "version": 3
   },
   "file_extension": ".py",
   "mimetype": "text/x-python",
   "name": "python",
   "nbconvert_exporter": "python",
   "pygments_lexer": "ipython3",
   "version": "3.8.19"
  }
 },
 "nbformat": 4,
 "nbformat_minor": 5
}
