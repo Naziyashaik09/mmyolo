{
 "cells": [
  {
   "cell_type": "markdown",
   "id": "08a8aca6-b75f-4b3f-a537-547adc5ef34a",
   "metadata": {},
   "source": [
    "# testing with the trained model with image"
   ]
  },
  {
   "cell_type": "code",
   "execution_count": 1,
   "id": "91d2d309-74f0-4184-8b15-3972003c356d",
   "metadata": {},
   "outputs": [],
   "source": [
    "def testing_image(MAX_EPOCHS, custom_config_file_path_base,test_images,test_json_relpath,dummy_config,metainfo,BATCH_SIZE,NUM_CLASSES,dataset_root):\n",
    "    with open(dummy_config, 'r') as f:\n",
    "        cfg_content = f.read()\n",
    "        cfg_content = cfg_content.replace(\"data_root =\", f\"data_root = '{dataset_root}/'\")\n",
    "        cfg_content = cfg_content.replace(\"train_data_prefix =\", f\"train_data_prefix = '{test_images}'\")\n",
    "        cfg_content = cfg_content.replace(\"train_ann_file =\", f\"train_ann_file = '{test_json_relpath}'\")\n",
    "        cfg_content = cfg_content.replace(\"num_classes =\", f\"num_classes = {NUM_CLASSES}\")\n",
    "        cfg_content = cfg_content.replace(\"meta_info =\", f\"meta_info = {metainfo}\")\n",
    "        cfg_content = cfg_content.replace(\"max_epochs =\", f\"max_epochs = {MAX_EPOCHS}\")\n",
    "        cfg_content = cfg_content.replace(\"train_batch_size_per_gpu =\", f\"train_batch_size_per_gpu = {BATCH_SIZE}\")\n",
    "        cfg_content = cfg_content.replace(\"val_data_prefix =\", f\"val_data_prefix = '{test_images}'\")\n",
    "        cfg_content = cfg_content.replace(\"val_ann_file =\", f\"val_ann_file = '{test_json_relpath}'\")\n",
    "\n",
    "    with open(custom_config_file_path_base, 'w') as custom_cfg_file:\n",
    "        custom_cfg_file.write(cfg_content)\n",
    "    # print(f\"Custom config file has been created at {custom_config_file_path_base}.\")\n",
    "    print(\"dummy_config:\", dummy_config)\n",
    "    print(\"custom_config_file_path_base:\", custom_config_file_path_base)"
   ]
  },
  {
   "cell_type": "markdown",
   "id": "ed9a9be0-ec7c-4528-a93c-d6ba41f815b0",
   "metadata": {},
   "source": [
    "# testing with the trained model with video"
   ]
  },
  {
   "cell_type": "code",
   "execution_count": 1,
   "id": "82999eab-92fd-42da-bd3c-f3470f68bcbd",
   "metadata": {},
   "outputs": [],
   "source": [
    "def testing_video_1(MAX_EPOCHS, custom_config_file_path_base,video_path,path_to_save_video,custom_config_file_path):\n",
    "    import subprocess,os\n",
    "    os.chdir('/home/viso/mmyolo')\n",
    "    command_line = f\"python demo/video_demo.py '{video_path}' {custom_config_file_path_base}  work_dirs/{custom_config_file_path_without_extension}/epoch_{MAX_EPOCHS}.pth --out {path_to_save_video}\"\n",
    "    print(command_line)\n",
    "    # Run the command\n",
    "    result = subprocess.run(command_line, shell=True)\n",
    "\n",
    "    # Check the result\n",
    "    if result.returncode == 0:\n",
    "        print(\"Command executed successfully\")\n",
    "    else:\n",
    "        print(f\"Error executing the command. Return code: {result.returncode}\")\n",
    "        print(f\"Output: {result.stdout}\")\n",
    "        print(f\"Error: {result.stderr}\")    \n"
   ]
  },
  {
   "cell_type": "code",
   "execution_count": 2,
   "id": "85902a27-fe95-47f4-9dd5-e04d01d436a4",
   "metadata": {},
   "outputs": [],
   "source": [
    "def testing_video(MAX_EPOCHS, custom_config_file_path_base,selected_model_type,video_path,output_path,custom_config_file_path):\n",
    "    import subprocess , os\n",
    "    os.chdir('/root/workspace/mmyolo')\n",
    "    command_line=f\"python demo/naz.py \\\n",
    "    {video_path} \\\n",
    "    configs/{selected_model_type}/{custom_config_file_path_without_extension}.py\\\n",
    "     work_dirs/{custom_config_file_path_without_extension}/epoch_{MAX_EPOCHS}.pth \\\n",
    "    --out {output_path}\"\n",
    "    print(command_line)\n",
    "    # Run the command\n",
    "    result = subprocess.run(command_line, shell=True)\n",
    "\n",
    "    # Check the result\n",
    "    if result.returncode == 0:\n",
    "        print(\"Command executed successfully\")\n",
    "    else:\n",
    "        print(f\"Error executing the command. Return code: {result.returncode}\")\n",
    "        print(f\"Output: {result.stdout}\")\n",
    "        print(f\"Error: {result.stderr}\")    \n"
   ]
  },
  {
   "cell_type": "code",
   "execution_count": null,
   "id": "cec3a96d-4957-4999-961e-84e69f8ef294",
   "metadata": {},
   "outputs": [],
   "source": []
  }
 ],
 "metadata": {
  "kernelspec": {
   "display_name": "Python 3 (ipykernel)",
   "language": "python",
   "name": "python3"
  },
  "language_info": {
   "codemirror_mode": {
    "name": "ipython",
    "version": 3
   },
   "file_extension": ".py",
   "mimetype": "text/x-python",
   "name": "python",
   "nbconvert_exporter": "python",
   "pygments_lexer": "ipython3",
   "version": "3.8.19"
  }
 },
 "nbformat": 4,
 "nbformat_minor": 5
}
